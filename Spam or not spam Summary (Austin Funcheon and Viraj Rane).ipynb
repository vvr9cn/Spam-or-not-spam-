{
 "cells": [
  {
   "cell_type": "markdown",
   "id": "0cb045da",
   "metadata": {},
   "source": [
    "<h1 align=\"center\"> HW Assignment 11- Data Competition</h1>\n",
    "<h2 align=\"center\"> Final Model- Random Forests with best Hyper parameters</h2>\n",
    "<h3 align=\"center\"> IST 5520: Data Science and Machine Learning with Python </h3>\n",
    "<h3 align=\"center\"> By: Austin Funcheon and Viraj Rane </h3>"
   ]
  },
  {
   "cell_type": "markdown",
   "id": "f8547083",
   "metadata": {},
   "source": [
    "## 1. Data\n",
    "\n",
    "### 1.1. Import training Dataset\n",
    "\n",
    "Import train_data.csv file as training data."
   ]
  },
  {
   "cell_type": "code",
   "execution_count": 50,
   "id": "765014bd",
   "metadata": {},
   "outputs": [],
   "source": [
    "import pandas as pd\n",
    "import numpy as np\n",
    "import matplotlib.pyplot as plt\n",
    "from sklearn import preprocessing\n",
    "from sklearn import model_selection\n",
    "from sklearn import metrics"
   ]
  },
  {
   "cell_type": "code",
   "execution_count": 51,
   "id": "41f4c823",
   "metadata": {},
   "outputs": [
    {
     "data": {
      "text/html": [
       "<div>\n",
       "<style scoped>\n",
       "    .dataframe tbody tr th:only-of-type {\n",
       "        vertical-align: middle;\n",
       "    }\n",
       "\n",
       "    .dataframe tbody tr th {\n",
       "        vertical-align: top;\n",
       "    }\n",
       "\n",
       "    .dataframe thead th {\n",
       "        text-align: right;\n",
       "    }\n",
       "</style>\n",
       "<table border=\"1\" class=\"dataframe\">\n",
       "  <thead>\n",
       "    <tr style=\"text-align: right;\">\n",
       "      <th></th>\n",
       "      <th>word_freq_make</th>\n",
       "      <th>word_freq_address</th>\n",
       "      <th>word_freq_all</th>\n",
       "      <th>word_freq_3d</th>\n",
       "      <th>word_freq_our</th>\n",
       "      <th>word_freq_over</th>\n",
       "      <th>word_freq_remove</th>\n",
       "      <th>word_freq_internet</th>\n",
       "      <th>word_freq_order</th>\n",
       "      <th>word_freq_mail</th>\n",
       "      <th>...</th>\n",
       "      <th>char_freq_;</th>\n",
       "      <th>char_freq_(</th>\n",
       "      <th>char_freq_[</th>\n",
       "      <th>char_freq_!</th>\n",
       "      <th>char_freq_$</th>\n",
       "      <th>char_freq_#</th>\n",
       "      <th>capital_run_length_average</th>\n",
       "      <th>capital_run_length_longest</th>\n",
       "      <th>capital_run_length_total</th>\n",
       "      <th>class</th>\n",
       "    </tr>\n",
       "  </thead>\n",
       "  <tbody>\n",
       "    <tr>\n",
       "      <th>776</th>\n",
       "      <td>0.00</td>\n",
       "      <td>0.0</td>\n",
       "      <td>0.00</td>\n",
       "      <td>0.0</td>\n",
       "      <td>0.19</td>\n",
       "      <td>0.00</td>\n",
       "      <td>0.00</td>\n",
       "      <td>0.0</td>\n",
       "      <td>0.09</td>\n",
       "      <td>0.00</td>\n",
       "      <td>...</td>\n",
       "      <td>0.000</td>\n",
       "      <td>0.096</td>\n",
       "      <td>0.027</td>\n",
       "      <td>0.068</td>\n",
       "      <td>0.000</td>\n",
       "      <td>0.0</td>\n",
       "      <td>2.059</td>\n",
       "      <td>25</td>\n",
       "      <td>593</td>\n",
       "      <td>0</td>\n",
       "    </tr>\n",
       "    <tr>\n",
       "      <th>1222</th>\n",
       "      <td>0.09</td>\n",
       "      <td>0.0</td>\n",
       "      <td>0.09</td>\n",
       "      <td>0.0</td>\n",
       "      <td>0.39</td>\n",
       "      <td>0.09</td>\n",
       "      <td>0.09</td>\n",
       "      <td>0.0</td>\n",
       "      <td>0.19</td>\n",
       "      <td>0.29</td>\n",
       "      <td>...</td>\n",
       "      <td>0.000</td>\n",
       "      <td>0.136</td>\n",
       "      <td>0.000</td>\n",
       "      <td>0.318</td>\n",
       "      <td>0.151</td>\n",
       "      <td>0.0</td>\n",
       "      <td>6.813</td>\n",
       "      <td>494</td>\n",
       "      <td>1458</td>\n",
       "      <td>1</td>\n",
       "    </tr>\n",
       "    <tr>\n",
       "      <th>513</th>\n",
       "      <td>0.00</td>\n",
       "      <td>0.0</td>\n",
       "      <td>0.34</td>\n",
       "      <td>0.0</td>\n",
       "      <td>0.34</td>\n",
       "      <td>0.00</td>\n",
       "      <td>0.00</td>\n",
       "      <td>0.0</td>\n",
       "      <td>0.00</td>\n",
       "      <td>0.00</td>\n",
       "      <td>...</td>\n",
       "      <td>0.000</td>\n",
       "      <td>0.149</td>\n",
       "      <td>0.000</td>\n",
       "      <td>0.000</td>\n",
       "      <td>0.000</td>\n",
       "      <td>0.0</td>\n",
       "      <td>2.350</td>\n",
       "      <td>14</td>\n",
       "      <td>188</td>\n",
       "      <td>0</td>\n",
       "    </tr>\n",
       "    <tr>\n",
       "      <th>487</th>\n",
       "      <td>0.00</td>\n",
       "      <td>0.0</td>\n",
       "      <td>0.00</td>\n",
       "      <td>0.0</td>\n",
       "      <td>0.00</td>\n",
       "      <td>0.00</td>\n",
       "      <td>0.00</td>\n",
       "      <td>0.0</td>\n",
       "      <td>0.00</td>\n",
       "      <td>0.00</td>\n",
       "      <td>...</td>\n",
       "      <td>0.000</td>\n",
       "      <td>0.000</td>\n",
       "      <td>0.374</td>\n",
       "      <td>0.000</td>\n",
       "      <td>0.000</td>\n",
       "      <td>0.0</td>\n",
       "      <td>1.583</td>\n",
       "      <td>8</td>\n",
       "      <td>19</td>\n",
       "      <td>0</td>\n",
       "    </tr>\n",
       "    <tr>\n",
       "      <th>1299</th>\n",
       "      <td>0.00</td>\n",
       "      <td>0.0</td>\n",
       "      <td>0.40</td>\n",
       "      <td>0.0</td>\n",
       "      <td>0.00</td>\n",
       "      <td>0.00</td>\n",
       "      <td>0.20</td>\n",
       "      <td>0.0</td>\n",
       "      <td>0.80</td>\n",
       "      <td>0.20</td>\n",
       "      <td>...</td>\n",
       "      <td>0.033</td>\n",
       "      <td>0.066</td>\n",
       "      <td>0.000</td>\n",
       "      <td>0.133</td>\n",
       "      <td>0.066</td>\n",
       "      <td>0.0</td>\n",
       "      <td>2.704</td>\n",
       "      <td>30</td>\n",
       "      <td>192</td>\n",
       "      <td>1</td>\n",
       "    </tr>\n",
       "  </tbody>\n",
       "</table>\n",
       "<p>5 rows × 58 columns</p>\n",
       "</div>"
      ],
      "text/plain": [
       "      word_freq_make  word_freq_address  word_freq_all  word_freq_3d  \\\n",
       "776             0.00                0.0           0.00           0.0   \n",
       "1222            0.09                0.0           0.09           0.0   \n",
       "513             0.00                0.0           0.34           0.0   \n",
       "487             0.00                0.0           0.00           0.0   \n",
       "1299            0.00                0.0           0.40           0.0   \n",
       "\n",
       "      word_freq_our  word_freq_over  word_freq_remove  word_freq_internet  \\\n",
       "776            0.19            0.00              0.00                 0.0   \n",
       "1222           0.39            0.09              0.09                 0.0   \n",
       "513            0.34            0.00              0.00                 0.0   \n",
       "487            0.00            0.00              0.00                 0.0   \n",
       "1299           0.00            0.00              0.20                 0.0   \n",
       "\n",
       "      word_freq_order  word_freq_mail  ...  char_freq_;  char_freq_(  \\\n",
       "776              0.09            0.00  ...        0.000        0.096   \n",
       "1222             0.19            0.29  ...        0.000        0.136   \n",
       "513              0.00            0.00  ...        0.000        0.149   \n",
       "487              0.00            0.00  ...        0.000        0.000   \n",
       "1299             0.80            0.20  ...        0.033        0.066   \n",
       "\n",
       "      char_freq_[  char_freq_!  char_freq_$  char_freq_#  \\\n",
       "776         0.027        0.068        0.000          0.0   \n",
       "1222        0.000        0.318        0.151          0.0   \n",
       "513         0.000        0.000        0.000          0.0   \n",
       "487         0.374        0.000        0.000          0.0   \n",
       "1299        0.000        0.133        0.066          0.0   \n",
       "\n",
       "      capital_run_length_average  capital_run_length_longest  \\\n",
       "776                        2.059                          25   \n",
       "1222                       6.813                         494   \n",
       "513                        2.350                          14   \n",
       "487                        1.583                           8   \n",
       "1299                       2.704                          30   \n",
       "\n",
       "      capital_run_length_total  class  \n",
       "776                        593      0  \n",
       "1222                      1458      1  \n",
       "513                        188      0  \n",
       "487                         19      0  \n",
       "1299                       192      1  \n",
       "\n",
       "[5 rows x 58 columns]"
      ]
     },
     "execution_count": 51,
     "metadata": {},
     "output_type": "execute_result"
    }
   ],
   "source": [
    "data = pd.read_csv('train_data.csv')\n",
    "data.sample(5)"
   ]
  },
  {
   "cell_type": "code",
   "execution_count": 52,
   "id": "b0207f44",
   "metadata": {},
   "outputs": [
    {
     "name": "stdout",
     "output_type": "stream",
     "text": [
      "<class 'pandas.core.frame.DataFrame'>\n",
      "RangeIndex: 3220 entries, 0 to 3219\n",
      "Data columns (total 58 columns):\n",
      " #   Column                      Non-Null Count  Dtype  \n",
      "---  ------                      --------------  -----  \n",
      " 0   word_freq_make              3220 non-null   float64\n",
      " 1   word_freq_address           3220 non-null   float64\n",
      " 2   word_freq_all               3220 non-null   float64\n",
      " 3   word_freq_3d                3220 non-null   float64\n",
      " 4   word_freq_our               3220 non-null   float64\n",
      " 5   word_freq_over              3220 non-null   float64\n",
      " 6   word_freq_remove            3220 non-null   float64\n",
      " 7   word_freq_internet          3220 non-null   float64\n",
      " 8   word_freq_order             3220 non-null   float64\n",
      " 9   word_freq_mail              3220 non-null   float64\n",
      " 10  word_freq_receive           3220 non-null   float64\n",
      " 11  word_freq_will              3220 non-null   float64\n",
      " 12  word_freq_people            3220 non-null   float64\n",
      " 13  word_freq_report            3220 non-null   float64\n",
      " 14  word_freq_addresses         3220 non-null   float64\n",
      " 15  word_freq_free              3220 non-null   float64\n",
      " 16  word_freq_business          3220 non-null   float64\n",
      " 17  word_freq_email             3220 non-null   float64\n",
      " 18  word_freq_you               3220 non-null   float64\n",
      " 19  word_freq_credit            3220 non-null   float64\n",
      " 20  word_freq_your              3220 non-null   float64\n",
      " 21  word_freq_font              3220 non-null   float64\n",
      " 22  word_freq_000               3220 non-null   float64\n",
      " 23  word_freq_money             3220 non-null   float64\n",
      " 24  word_freq_hp                3220 non-null   float64\n",
      " 25  word_freq_hpl               3220 non-null   float64\n",
      " 26  word_freq_george            3220 non-null   float64\n",
      " 27  word_freq_650               3220 non-null   float64\n",
      " 28  word_freq_lab               3220 non-null   float64\n",
      " 29  word_freq_labs              3220 non-null   float64\n",
      " 30  word_freq_telnet            3220 non-null   float64\n",
      " 31  word_freq_857               3220 non-null   float64\n",
      " 32  word_freq_data              3220 non-null   float64\n",
      " 33  word_freq_415               3220 non-null   float64\n",
      " 34  word_freq_85                3220 non-null   float64\n",
      " 35  word_freq_technology        3220 non-null   float64\n",
      " 36  word_freq_1999              3220 non-null   float64\n",
      " 37  word_freq_parts             3220 non-null   float64\n",
      " 38  word_freq_pm                3220 non-null   float64\n",
      " 39  word_freq_direct            3220 non-null   float64\n",
      " 40  word_freq_cs                3220 non-null   float64\n",
      " 41  word_freq_meeting           3220 non-null   float64\n",
      " 42  word_freq_original          3220 non-null   float64\n",
      " 43  word_freq_project           3220 non-null   float64\n",
      " 44  word_freq_re                3220 non-null   float64\n",
      " 45  word_freq_edu               3220 non-null   float64\n",
      " 46  word_freq_table             3220 non-null   float64\n",
      " 47  word_freq_conference        3220 non-null   float64\n",
      " 48  char_freq_;                 3220 non-null   float64\n",
      " 49  char_freq_(                 3220 non-null   float64\n",
      " 50  char_freq_[                 3220 non-null   float64\n",
      " 51  char_freq_!                 3220 non-null   float64\n",
      " 52  char_freq_$                 3220 non-null   float64\n",
      " 53  char_freq_#                 3220 non-null   float64\n",
      " 54  capital_run_length_average  3220 non-null   float64\n",
      " 55  capital_run_length_longest  3220 non-null   int64  \n",
      " 56  capital_run_length_total    3220 non-null   int64  \n",
      " 57  class                       3220 non-null   int64  \n",
      "dtypes: float64(55), int64(3)\n",
      "memory usage: 1.4 MB\n"
     ]
    }
   ],
   "source": [
    "data.info()"
   ]
  },
  {
   "cell_type": "code",
   "execution_count": 53,
   "id": "b47bd27c",
   "metadata": {},
   "outputs": [
    {
     "data": {
      "text/html": [
       "<div>\n",
       "<style scoped>\n",
       "    .dataframe tbody tr th:only-of-type {\n",
       "        vertical-align: middle;\n",
       "    }\n",
       "\n",
       "    .dataframe tbody tr th {\n",
       "        vertical-align: top;\n",
       "    }\n",
       "\n",
       "    .dataframe thead th {\n",
       "        text-align: right;\n",
       "    }\n",
       "</style>\n",
       "<table border=\"1\" class=\"dataframe\">\n",
       "  <thead>\n",
       "    <tr style=\"text-align: right;\">\n",
       "      <th></th>\n",
       "      <th>word_freq_make</th>\n",
       "      <th>word_freq_address</th>\n",
       "      <th>word_freq_all</th>\n",
       "      <th>word_freq_3d</th>\n",
       "      <th>word_freq_our</th>\n",
       "      <th>word_freq_over</th>\n",
       "      <th>word_freq_remove</th>\n",
       "      <th>word_freq_internet</th>\n",
       "      <th>word_freq_order</th>\n",
       "      <th>word_freq_mail</th>\n",
       "      <th>...</th>\n",
       "      <th>char_freq_;</th>\n",
       "      <th>char_freq_(</th>\n",
       "      <th>char_freq_[</th>\n",
       "      <th>char_freq_!</th>\n",
       "      <th>char_freq_$</th>\n",
       "      <th>char_freq_#</th>\n",
       "      <th>capital_run_length_average</th>\n",
       "      <th>capital_run_length_longest</th>\n",
       "      <th>capital_run_length_total</th>\n",
       "      <th>class</th>\n",
       "    </tr>\n",
       "  </thead>\n",
       "  <tbody>\n",
       "    <tr>\n",
       "      <th>count</th>\n",
       "      <td>3220.000000</td>\n",
       "      <td>3220.000000</td>\n",
       "      <td>3220.000000</td>\n",
       "      <td>3220.000000</td>\n",
       "      <td>3220.000000</td>\n",
       "      <td>3220.000000</td>\n",
       "      <td>3220.000000</td>\n",
       "      <td>3220.000000</td>\n",
       "      <td>3220.000000</td>\n",
       "      <td>3220.000000</td>\n",
       "      <td>...</td>\n",
       "      <td>3220.000000</td>\n",
       "      <td>3220.000000</td>\n",
       "      <td>3220.000000</td>\n",
       "      <td>3220.000000</td>\n",
       "      <td>3220.000000</td>\n",
       "      <td>3220.000000</td>\n",
       "      <td>3220.000000</td>\n",
       "      <td>3220.000000</td>\n",
       "      <td>3220.000000</td>\n",
       "      <td>3220.000000</td>\n",
       "    </tr>\n",
       "    <tr>\n",
       "      <th>mean</th>\n",
       "      <td>0.099854</td>\n",
       "      <td>0.219792</td>\n",
       "      <td>0.284391</td>\n",
       "      <td>0.041627</td>\n",
       "      <td>0.306783</td>\n",
       "      <td>0.100839</td>\n",
       "      <td>0.112981</td>\n",
       "      <td>0.108127</td>\n",
       "      <td>0.087357</td>\n",
       "      <td>0.239550</td>\n",
       "      <td>...</td>\n",
       "      <td>0.039989</td>\n",
       "      <td>0.140453</td>\n",
       "      <td>0.016707</td>\n",
       "      <td>0.268132</td>\n",
       "      <td>0.072931</td>\n",
       "      <td>0.048461</td>\n",
       "      <td>5.213943</td>\n",
       "      <td>53.550311</td>\n",
       "      <td>285.312112</td>\n",
       "      <td>0.394099</td>\n",
       "    </tr>\n",
       "    <tr>\n",
       "      <th>std</th>\n",
       "      <td>0.285808</td>\n",
       "      <td>1.329902</td>\n",
       "      <td>0.504691</td>\n",
       "      <td>1.010729</td>\n",
       "      <td>0.654040</td>\n",
       "      <td>0.289473</td>\n",
       "      <td>0.402128</td>\n",
       "      <td>0.414894</td>\n",
       "      <td>0.255191</td>\n",
       "      <td>0.661345</td>\n",
       "      <td>...</td>\n",
       "      <td>0.251293</td>\n",
       "      <td>0.293065</td>\n",
       "      <td>0.111976</td>\n",
       "      <td>0.811123</td>\n",
       "      <td>0.223694</td>\n",
       "      <td>0.501323</td>\n",
       "      <td>33.335451</td>\n",
       "      <td>219.385696</td>\n",
       "      <td>621.036731</td>\n",
       "      <td>0.488732</td>\n",
       "    </tr>\n",
       "    <tr>\n",
       "      <th>min</th>\n",
       "      <td>0.000000</td>\n",
       "      <td>0.000000</td>\n",
       "      <td>0.000000</td>\n",
       "      <td>0.000000</td>\n",
       "      <td>0.000000</td>\n",
       "      <td>0.000000</td>\n",
       "      <td>0.000000</td>\n",
       "      <td>0.000000</td>\n",
       "      <td>0.000000</td>\n",
       "      <td>0.000000</td>\n",
       "      <td>...</td>\n",
       "      <td>0.000000</td>\n",
       "      <td>0.000000</td>\n",
       "      <td>0.000000</td>\n",
       "      <td>0.000000</td>\n",
       "      <td>0.000000</td>\n",
       "      <td>0.000000</td>\n",
       "      <td>1.000000</td>\n",
       "      <td>1.000000</td>\n",
       "      <td>1.000000</td>\n",
       "      <td>0.000000</td>\n",
       "    </tr>\n",
       "    <tr>\n",
       "      <th>25%</th>\n",
       "      <td>0.000000</td>\n",
       "      <td>0.000000</td>\n",
       "      <td>0.000000</td>\n",
       "      <td>0.000000</td>\n",
       "      <td>0.000000</td>\n",
       "      <td>0.000000</td>\n",
       "      <td>0.000000</td>\n",
       "      <td>0.000000</td>\n",
       "      <td>0.000000</td>\n",
       "      <td>0.000000</td>\n",
       "      <td>...</td>\n",
       "      <td>0.000000</td>\n",
       "      <td>0.000000</td>\n",
       "      <td>0.000000</td>\n",
       "      <td>0.000000</td>\n",
       "      <td>0.000000</td>\n",
       "      <td>0.000000</td>\n",
       "      <td>1.571000</td>\n",
       "      <td>6.000000</td>\n",
       "      <td>35.000000</td>\n",
       "      <td>0.000000</td>\n",
       "    </tr>\n",
       "    <tr>\n",
       "      <th>50%</th>\n",
       "      <td>0.000000</td>\n",
       "      <td>0.000000</td>\n",
       "      <td>0.000000</td>\n",
       "      <td>0.000000</td>\n",
       "      <td>0.000000</td>\n",
       "      <td>0.000000</td>\n",
       "      <td>0.000000</td>\n",
       "      <td>0.000000</td>\n",
       "      <td>0.000000</td>\n",
       "      <td>0.000000</td>\n",
       "      <td>...</td>\n",
       "      <td>0.000000</td>\n",
       "      <td>0.065000</td>\n",
       "      <td>0.000000</td>\n",
       "      <td>0.000000</td>\n",
       "      <td>0.000000</td>\n",
       "      <td>0.000000</td>\n",
       "      <td>2.250000</td>\n",
       "      <td>15.000000</td>\n",
       "      <td>95.500000</td>\n",
       "      <td>0.000000</td>\n",
       "    </tr>\n",
       "    <tr>\n",
       "      <th>75%</th>\n",
       "      <td>0.000000</td>\n",
       "      <td>0.000000</td>\n",
       "      <td>0.430000</td>\n",
       "      <td>0.000000</td>\n",
       "      <td>0.370000</td>\n",
       "      <td>0.000000</td>\n",
       "      <td>0.000000</td>\n",
       "      <td>0.000000</td>\n",
       "      <td>0.000000</td>\n",
       "      <td>0.150000</td>\n",
       "      <td>...</td>\n",
       "      <td>0.000000</td>\n",
       "      <td>0.184000</td>\n",
       "      <td>0.000000</td>\n",
       "      <td>0.326250</td>\n",
       "      <td>0.051000</td>\n",
       "      <td>0.000000</td>\n",
       "      <td>3.690250</td>\n",
       "      <td>42.000000</td>\n",
       "      <td>264.250000</td>\n",
       "      <td>1.000000</td>\n",
       "    </tr>\n",
       "    <tr>\n",
       "      <th>max</th>\n",
       "      <td>4.340000</td>\n",
       "      <td>14.280000</td>\n",
       "      <td>4.540000</td>\n",
       "      <td>40.130000</td>\n",
       "      <td>10.000000</td>\n",
       "      <td>5.880000</td>\n",
       "      <td>7.270000</td>\n",
       "      <td>11.110000</td>\n",
       "      <td>2.590000</td>\n",
       "      <td>18.180000</td>\n",
       "      <td>...</td>\n",
       "      <td>4.385000</td>\n",
       "      <td>9.752000</td>\n",
       "      <td>4.081000</td>\n",
       "      <td>32.478000</td>\n",
       "      <td>5.300000</td>\n",
       "      <td>19.829000</td>\n",
       "      <td>1102.500000</td>\n",
       "      <td>9989.000000</td>\n",
       "      <td>15841.000000</td>\n",
       "      <td>1.000000</td>\n",
       "    </tr>\n",
       "  </tbody>\n",
       "</table>\n",
       "<p>8 rows × 58 columns</p>\n",
       "</div>"
      ],
      "text/plain": [
       "       word_freq_make  word_freq_address  word_freq_all  word_freq_3d  \\\n",
       "count     3220.000000        3220.000000    3220.000000   3220.000000   \n",
       "mean         0.099854           0.219792       0.284391      0.041627   \n",
       "std          0.285808           1.329902       0.504691      1.010729   \n",
       "min          0.000000           0.000000       0.000000      0.000000   \n",
       "25%          0.000000           0.000000       0.000000      0.000000   \n",
       "50%          0.000000           0.000000       0.000000      0.000000   \n",
       "75%          0.000000           0.000000       0.430000      0.000000   \n",
       "max          4.340000          14.280000       4.540000     40.130000   \n",
       "\n",
       "       word_freq_our  word_freq_over  word_freq_remove  word_freq_internet  \\\n",
       "count    3220.000000     3220.000000       3220.000000         3220.000000   \n",
       "mean        0.306783        0.100839          0.112981            0.108127   \n",
       "std         0.654040        0.289473          0.402128            0.414894   \n",
       "min         0.000000        0.000000          0.000000            0.000000   \n",
       "25%         0.000000        0.000000          0.000000            0.000000   \n",
       "50%         0.000000        0.000000          0.000000            0.000000   \n",
       "75%         0.370000        0.000000          0.000000            0.000000   \n",
       "max        10.000000        5.880000          7.270000           11.110000   \n",
       "\n",
       "       word_freq_order  word_freq_mail  ...  char_freq_;  char_freq_(  \\\n",
       "count      3220.000000     3220.000000  ...  3220.000000  3220.000000   \n",
       "mean          0.087357        0.239550  ...     0.039989     0.140453   \n",
       "std           0.255191        0.661345  ...     0.251293     0.293065   \n",
       "min           0.000000        0.000000  ...     0.000000     0.000000   \n",
       "25%           0.000000        0.000000  ...     0.000000     0.000000   \n",
       "50%           0.000000        0.000000  ...     0.000000     0.065000   \n",
       "75%           0.000000        0.150000  ...     0.000000     0.184000   \n",
       "max           2.590000       18.180000  ...     4.385000     9.752000   \n",
       "\n",
       "       char_freq_[  char_freq_!  char_freq_$  char_freq_#  \\\n",
       "count  3220.000000  3220.000000  3220.000000  3220.000000   \n",
       "mean      0.016707     0.268132     0.072931     0.048461   \n",
       "std       0.111976     0.811123     0.223694     0.501323   \n",
       "min       0.000000     0.000000     0.000000     0.000000   \n",
       "25%       0.000000     0.000000     0.000000     0.000000   \n",
       "50%       0.000000     0.000000     0.000000     0.000000   \n",
       "75%       0.000000     0.326250     0.051000     0.000000   \n",
       "max       4.081000    32.478000     5.300000    19.829000   \n",
       "\n",
       "       capital_run_length_average  capital_run_length_longest  \\\n",
       "count                 3220.000000                 3220.000000   \n",
       "mean                     5.213943                   53.550311   \n",
       "std                     33.335451                  219.385696   \n",
       "min                      1.000000                    1.000000   \n",
       "25%                      1.571000                    6.000000   \n",
       "50%                      2.250000                   15.000000   \n",
       "75%                      3.690250                   42.000000   \n",
       "max                   1102.500000                 9989.000000   \n",
       "\n",
       "       capital_run_length_total        class  \n",
       "count               3220.000000  3220.000000  \n",
       "mean                 285.312112     0.394099  \n",
       "std                  621.036731     0.488732  \n",
       "min                    1.000000     0.000000  \n",
       "25%                   35.000000     0.000000  \n",
       "50%                   95.500000     0.000000  \n",
       "75%                  264.250000     1.000000  \n",
       "max                15841.000000     1.000000  \n",
       "\n",
       "[8 rows x 58 columns]"
      ]
     },
     "execution_count": 53,
     "metadata": {},
     "output_type": "execute_result"
    }
   ],
   "source": [
    "data.describe()"
   ]
  },
  {
   "cell_type": "code",
   "execution_count": 54,
   "id": "cf8b671f",
   "metadata": {},
   "outputs": [
    {
     "data": {
      "text/plain": [
       "0    1951\n",
       "1    1269\n",
       "Name: class, dtype: int64"
      ]
     },
     "execution_count": 54,
     "metadata": {},
     "output_type": "execute_result"
    }
   ],
   "source": [
    "data['class'].value_counts()"
   ]
  },
  {
   "cell_type": "code",
   "execution_count": 55,
   "id": "a99bcc0a",
   "metadata": {},
   "outputs": [],
   "source": [
    "# defining the outcome variable 'y' and predictors 'X'\n",
    "y = data['class']\n",
    "X = data.drop(columns='class')"
   ]
  },
  {
   "cell_type": "code",
   "execution_count": 56,
   "id": "93840525",
   "metadata": {},
   "outputs": [
    {
     "data": {
      "text/html": [
       "<div>\n",
       "<style scoped>\n",
       "    .dataframe tbody tr th:only-of-type {\n",
       "        vertical-align: middle;\n",
       "    }\n",
       "\n",
       "    .dataframe tbody tr th {\n",
       "        vertical-align: top;\n",
       "    }\n",
       "\n",
       "    .dataframe thead th {\n",
       "        text-align: right;\n",
       "    }\n",
       "</style>\n",
       "<table border=\"1\" class=\"dataframe\">\n",
       "  <thead>\n",
       "    <tr style=\"text-align: right;\">\n",
       "      <th></th>\n",
       "      <th>word_freq_make</th>\n",
       "      <th>word_freq_address</th>\n",
       "      <th>word_freq_all</th>\n",
       "      <th>word_freq_3d</th>\n",
       "      <th>word_freq_our</th>\n",
       "      <th>word_freq_over</th>\n",
       "      <th>word_freq_remove</th>\n",
       "      <th>word_freq_internet</th>\n",
       "      <th>word_freq_order</th>\n",
       "      <th>word_freq_mail</th>\n",
       "      <th>...</th>\n",
       "      <th>word_freq_conference</th>\n",
       "      <th>char_freq_;</th>\n",
       "      <th>char_freq_(</th>\n",
       "      <th>char_freq_[</th>\n",
       "      <th>char_freq_!</th>\n",
       "      <th>char_freq_$</th>\n",
       "      <th>char_freq_#</th>\n",
       "      <th>capital_run_length_average</th>\n",
       "      <th>capital_run_length_longest</th>\n",
       "      <th>capital_run_length_total</th>\n",
       "    </tr>\n",
       "  </thead>\n",
       "  <tbody>\n",
       "    <tr>\n",
       "      <th>count</th>\n",
       "      <td>3220.000000</td>\n",
       "      <td>3220.000000</td>\n",
       "      <td>3220.000000</td>\n",
       "      <td>3220.000000</td>\n",
       "      <td>3220.000000</td>\n",
       "      <td>3220.000000</td>\n",
       "      <td>3220.000000</td>\n",
       "      <td>3220.000000</td>\n",
       "      <td>3220.000000</td>\n",
       "      <td>3220.000000</td>\n",
       "      <td>...</td>\n",
       "      <td>3220.000000</td>\n",
       "      <td>3220.000000</td>\n",
       "      <td>3220.000000</td>\n",
       "      <td>3220.000000</td>\n",
       "      <td>3220.000000</td>\n",
       "      <td>3220.000000</td>\n",
       "      <td>3220.000000</td>\n",
       "      <td>3220.000000</td>\n",
       "      <td>3220.000000</td>\n",
       "      <td>3220.000000</td>\n",
       "    </tr>\n",
       "    <tr>\n",
       "      <th>mean</th>\n",
       "      <td>0.099854</td>\n",
       "      <td>0.219792</td>\n",
       "      <td>0.284391</td>\n",
       "      <td>0.041627</td>\n",
       "      <td>0.306783</td>\n",
       "      <td>0.100839</td>\n",
       "      <td>0.112981</td>\n",
       "      <td>0.108127</td>\n",
       "      <td>0.087357</td>\n",
       "      <td>0.239550</td>\n",
       "      <td>...</td>\n",
       "      <td>0.035149</td>\n",
       "      <td>0.039989</td>\n",
       "      <td>0.140453</td>\n",
       "      <td>0.016707</td>\n",
       "      <td>0.268132</td>\n",
       "      <td>0.072931</td>\n",
       "      <td>0.048461</td>\n",
       "      <td>5.213943</td>\n",
       "      <td>53.550311</td>\n",
       "      <td>285.312112</td>\n",
       "    </tr>\n",
       "    <tr>\n",
       "      <th>std</th>\n",
       "      <td>0.285808</td>\n",
       "      <td>1.329902</td>\n",
       "      <td>0.504691</td>\n",
       "      <td>1.010729</td>\n",
       "      <td>0.654040</td>\n",
       "      <td>0.289473</td>\n",
       "      <td>0.402128</td>\n",
       "      <td>0.414894</td>\n",
       "      <td>0.255191</td>\n",
       "      <td>0.661345</td>\n",
       "      <td>...</td>\n",
       "      <td>0.313863</td>\n",
       "      <td>0.251293</td>\n",
       "      <td>0.293065</td>\n",
       "      <td>0.111976</td>\n",
       "      <td>0.811123</td>\n",
       "      <td>0.223694</td>\n",
       "      <td>0.501323</td>\n",
       "      <td>33.335451</td>\n",
       "      <td>219.385696</td>\n",
       "      <td>621.036731</td>\n",
       "    </tr>\n",
       "    <tr>\n",
       "      <th>min</th>\n",
       "      <td>0.000000</td>\n",
       "      <td>0.000000</td>\n",
       "      <td>0.000000</td>\n",
       "      <td>0.000000</td>\n",
       "      <td>0.000000</td>\n",
       "      <td>0.000000</td>\n",
       "      <td>0.000000</td>\n",
       "      <td>0.000000</td>\n",
       "      <td>0.000000</td>\n",
       "      <td>0.000000</td>\n",
       "      <td>...</td>\n",
       "      <td>0.000000</td>\n",
       "      <td>0.000000</td>\n",
       "      <td>0.000000</td>\n",
       "      <td>0.000000</td>\n",
       "      <td>0.000000</td>\n",
       "      <td>0.000000</td>\n",
       "      <td>0.000000</td>\n",
       "      <td>1.000000</td>\n",
       "      <td>1.000000</td>\n",
       "      <td>1.000000</td>\n",
       "    </tr>\n",
       "    <tr>\n",
       "      <th>25%</th>\n",
       "      <td>0.000000</td>\n",
       "      <td>0.000000</td>\n",
       "      <td>0.000000</td>\n",
       "      <td>0.000000</td>\n",
       "      <td>0.000000</td>\n",
       "      <td>0.000000</td>\n",
       "      <td>0.000000</td>\n",
       "      <td>0.000000</td>\n",
       "      <td>0.000000</td>\n",
       "      <td>0.000000</td>\n",
       "      <td>...</td>\n",
       "      <td>0.000000</td>\n",
       "      <td>0.000000</td>\n",
       "      <td>0.000000</td>\n",
       "      <td>0.000000</td>\n",
       "      <td>0.000000</td>\n",
       "      <td>0.000000</td>\n",
       "      <td>0.000000</td>\n",
       "      <td>1.571000</td>\n",
       "      <td>6.000000</td>\n",
       "      <td>35.000000</td>\n",
       "    </tr>\n",
       "    <tr>\n",
       "      <th>50%</th>\n",
       "      <td>0.000000</td>\n",
       "      <td>0.000000</td>\n",
       "      <td>0.000000</td>\n",
       "      <td>0.000000</td>\n",
       "      <td>0.000000</td>\n",
       "      <td>0.000000</td>\n",
       "      <td>0.000000</td>\n",
       "      <td>0.000000</td>\n",
       "      <td>0.000000</td>\n",
       "      <td>0.000000</td>\n",
       "      <td>...</td>\n",
       "      <td>0.000000</td>\n",
       "      <td>0.000000</td>\n",
       "      <td>0.065000</td>\n",
       "      <td>0.000000</td>\n",
       "      <td>0.000000</td>\n",
       "      <td>0.000000</td>\n",
       "      <td>0.000000</td>\n",
       "      <td>2.250000</td>\n",
       "      <td>15.000000</td>\n",
       "      <td>95.500000</td>\n",
       "    </tr>\n",
       "    <tr>\n",
       "      <th>75%</th>\n",
       "      <td>0.000000</td>\n",
       "      <td>0.000000</td>\n",
       "      <td>0.430000</td>\n",
       "      <td>0.000000</td>\n",
       "      <td>0.370000</td>\n",
       "      <td>0.000000</td>\n",
       "      <td>0.000000</td>\n",
       "      <td>0.000000</td>\n",
       "      <td>0.000000</td>\n",
       "      <td>0.150000</td>\n",
       "      <td>...</td>\n",
       "      <td>0.000000</td>\n",
       "      <td>0.000000</td>\n",
       "      <td>0.184000</td>\n",
       "      <td>0.000000</td>\n",
       "      <td>0.326250</td>\n",
       "      <td>0.051000</td>\n",
       "      <td>0.000000</td>\n",
       "      <td>3.690250</td>\n",
       "      <td>42.000000</td>\n",
       "      <td>264.250000</td>\n",
       "    </tr>\n",
       "    <tr>\n",
       "      <th>max</th>\n",
       "      <td>4.340000</td>\n",
       "      <td>14.280000</td>\n",
       "      <td>4.540000</td>\n",
       "      <td>40.130000</td>\n",
       "      <td>10.000000</td>\n",
       "      <td>5.880000</td>\n",
       "      <td>7.270000</td>\n",
       "      <td>11.110000</td>\n",
       "      <td>2.590000</td>\n",
       "      <td>18.180000</td>\n",
       "      <td>...</td>\n",
       "      <td>10.000000</td>\n",
       "      <td>4.385000</td>\n",
       "      <td>9.752000</td>\n",
       "      <td>4.081000</td>\n",
       "      <td>32.478000</td>\n",
       "      <td>5.300000</td>\n",
       "      <td>19.829000</td>\n",
       "      <td>1102.500000</td>\n",
       "      <td>9989.000000</td>\n",
       "      <td>15841.000000</td>\n",
       "    </tr>\n",
       "  </tbody>\n",
       "</table>\n",
       "<p>8 rows × 57 columns</p>\n",
       "</div>"
      ],
      "text/plain": [
       "       word_freq_make  word_freq_address  word_freq_all  word_freq_3d  \\\n",
       "count     3220.000000        3220.000000    3220.000000   3220.000000   \n",
       "mean         0.099854           0.219792       0.284391      0.041627   \n",
       "std          0.285808           1.329902       0.504691      1.010729   \n",
       "min          0.000000           0.000000       0.000000      0.000000   \n",
       "25%          0.000000           0.000000       0.000000      0.000000   \n",
       "50%          0.000000           0.000000       0.000000      0.000000   \n",
       "75%          0.000000           0.000000       0.430000      0.000000   \n",
       "max          4.340000          14.280000       4.540000     40.130000   \n",
       "\n",
       "       word_freq_our  word_freq_over  word_freq_remove  word_freq_internet  \\\n",
       "count    3220.000000     3220.000000       3220.000000         3220.000000   \n",
       "mean        0.306783        0.100839          0.112981            0.108127   \n",
       "std         0.654040        0.289473          0.402128            0.414894   \n",
       "min         0.000000        0.000000          0.000000            0.000000   \n",
       "25%         0.000000        0.000000          0.000000            0.000000   \n",
       "50%         0.000000        0.000000          0.000000            0.000000   \n",
       "75%         0.370000        0.000000          0.000000            0.000000   \n",
       "max        10.000000        5.880000          7.270000           11.110000   \n",
       "\n",
       "       word_freq_order  word_freq_mail  ...  word_freq_conference  \\\n",
       "count      3220.000000     3220.000000  ...           3220.000000   \n",
       "mean          0.087357        0.239550  ...              0.035149   \n",
       "std           0.255191        0.661345  ...              0.313863   \n",
       "min           0.000000        0.000000  ...              0.000000   \n",
       "25%           0.000000        0.000000  ...              0.000000   \n",
       "50%           0.000000        0.000000  ...              0.000000   \n",
       "75%           0.000000        0.150000  ...              0.000000   \n",
       "max           2.590000       18.180000  ...             10.000000   \n",
       "\n",
       "       char_freq_;  char_freq_(  char_freq_[  char_freq_!  char_freq_$  \\\n",
       "count  3220.000000  3220.000000  3220.000000  3220.000000  3220.000000   \n",
       "mean      0.039989     0.140453     0.016707     0.268132     0.072931   \n",
       "std       0.251293     0.293065     0.111976     0.811123     0.223694   \n",
       "min       0.000000     0.000000     0.000000     0.000000     0.000000   \n",
       "25%       0.000000     0.000000     0.000000     0.000000     0.000000   \n",
       "50%       0.000000     0.065000     0.000000     0.000000     0.000000   \n",
       "75%       0.000000     0.184000     0.000000     0.326250     0.051000   \n",
       "max       4.385000     9.752000     4.081000    32.478000     5.300000   \n",
       "\n",
       "       char_freq_#  capital_run_length_average  capital_run_length_longest  \\\n",
       "count  3220.000000                 3220.000000                 3220.000000   \n",
       "mean      0.048461                    5.213943                   53.550311   \n",
       "std       0.501323                   33.335451                  219.385696   \n",
       "min       0.000000                    1.000000                    1.000000   \n",
       "25%       0.000000                    1.571000                    6.000000   \n",
       "50%       0.000000                    2.250000                   15.000000   \n",
       "75%       0.000000                    3.690250                   42.000000   \n",
       "max      19.829000                 1102.500000                 9989.000000   \n",
       "\n",
       "       capital_run_length_total  \n",
       "count               3220.000000  \n",
       "mean                 285.312112  \n",
       "std                  621.036731  \n",
       "min                    1.000000  \n",
       "25%                   35.000000  \n",
       "50%                   95.500000  \n",
       "75%                  264.250000  \n",
       "max                15841.000000  \n",
       "\n",
       "[8 rows x 57 columns]"
      ]
     },
     "execution_count": 56,
     "metadata": {},
     "output_type": "execute_result"
    }
   ],
   "source": [
    "X.describe()"
   ]
  },
  {
   "cell_type": "code",
   "execution_count": 57,
   "id": "cb59d74c",
   "metadata": {},
   "outputs": [
    {
     "data": {
      "text/plain": [
       "0    0\n",
       "1    0\n",
       "2    1\n",
       "3    1\n",
       "4    0\n",
       "Name: class, dtype: int64"
      ]
     },
     "execution_count": 57,
     "metadata": {},
     "output_type": "execute_result"
    }
   ],
   "source": [
    "y.head()"
   ]
  },
  {
   "cell_type": "code",
   "execution_count": 58,
   "id": "963d3975",
   "metadata": {},
   "outputs": [],
   "source": [
    "train_X = X\n",
    "train_y = y"
   ]
  },
  {
   "cell_type": "code",
   "execution_count": 59,
   "id": "3d773ff8",
   "metadata": {},
   "outputs": [
    {
     "data": {
      "text/plain": [
       "(3220, 57)"
      ]
     },
     "execution_count": 59,
     "metadata": {},
     "output_type": "execute_result"
    }
   ],
   "source": [
    "train_X.shape"
   ]
  },
  {
   "cell_type": "code",
   "execution_count": 60,
   "id": "3d5ceff3",
   "metadata": {},
   "outputs": [
    {
     "data": {
      "text/plain": [
       "(3220,)"
      ]
     },
     "execution_count": 60,
     "metadata": {},
     "output_type": "execute_result"
    }
   ],
   "source": [
    "train_y.shape"
   ]
  },
  {
   "cell_type": "markdown",
   "id": "aeafe1b9",
   "metadata": {},
   "source": [
    "## 2. Import Test Dataset"
   ]
  },
  {
   "cell_type": "code",
   "execution_count": 61,
   "id": "65b6fbcd",
   "metadata": {},
   "outputs": [
    {
     "data": {
      "text/html": [
       "<div>\n",
       "<style scoped>\n",
       "    .dataframe tbody tr th:only-of-type {\n",
       "        vertical-align: middle;\n",
       "    }\n",
       "\n",
       "    .dataframe tbody tr th {\n",
       "        vertical-align: top;\n",
       "    }\n",
       "\n",
       "    .dataframe thead th {\n",
       "        text-align: right;\n",
       "    }\n",
       "</style>\n",
       "<table border=\"1\" class=\"dataframe\">\n",
       "  <thead>\n",
       "    <tr style=\"text-align: right;\">\n",
       "      <th></th>\n",
       "      <th>word_freq_make</th>\n",
       "      <th>word_freq_address</th>\n",
       "      <th>word_freq_all</th>\n",
       "      <th>word_freq_3d</th>\n",
       "      <th>word_freq_our</th>\n",
       "      <th>word_freq_over</th>\n",
       "      <th>word_freq_remove</th>\n",
       "      <th>word_freq_internet</th>\n",
       "      <th>word_freq_order</th>\n",
       "      <th>word_freq_mail</th>\n",
       "      <th>...</th>\n",
       "      <th>char_freq_;</th>\n",
       "      <th>char_freq_(</th>\n",
       "      <th>char_freq_[</th>\n",
       "      <th>char_freq_!</th>\n",
       "      <th>char_freq_$</th>\n",
       "      <th>char_freq_#</th>\n",
       "      <th>capital_run_length_average</th>\n",
       "      <th>capital_run_length_longest</th>\n",
       "      <th>capital_run_length_total</th>\n",
       "      <th>class</th>\n",
       "    </tr>\n",
       "  </thead>\n",
       "  <tbody>\n",
       "    <tr>\n",
       "      <th>1164</th>\n",
       "      <td>0.0</td>\n",
       "      <td>0.00</td>\n",
       "      <td>1.36</td>\n",
       "      <td>0.0</td>\n",
       "      <td>0.68</td>\n",
       "      <td>0.68</td>\n",
       "      <td>0.00</td>\n",
       "      <td>0.00</td>\n",
       "      <td>0.00</td>\n",
       "      <td>0.00</td>\n",
       "      <td>...</td>\n",
       "      <td>0.000</td>\n",
       "      <td>0.357</td>\n",
       "      <td>0.0</td>\n",
       "      <td>0.000</td>\n",
       "      <td>0.000</td>\n",
       "      <td>0.000</td>\n",
       "      <td>1.294</td>\n",
       "      <td>5</td>\n",
       "      <td>44</td>\n",
       "      <td>0</td>\n",
       "    </tr>\n",
       "    <tr>\n",
       "      <th>809</th>\n",
       "      <td>0.0</td>\n",
       "      <td>0.00</td>\n",
       "      <td>1.92</td>\n",
       "      <td>0.0</td>\n",
       "      <td>0.00</td>\n",
       "      <td>0.00</td>\n",
       "      <td>0.00</td>\n",
       "      <td>0.00</td>\n",
       "      <td>0.00</td>\n",
       "      <td>0.00</td>\n",
       "      <td>...</td>\n",
       "      <td>0.000</td>\n",
       "      <td>0.000</td>\n",
       "      <td>0.0</td>\n",
       "      <td>0.000</td>\n",
       "      <td>0.000</td>\n",
       "      <td>0.000</td>\n",
       "      <td>1.416</td>\n",
       "      <td>6</td>\n",
       "      <td>17</td>\n",
       "      <td>1</td>\n",
       "    </tr>\n",
       "    <tr>\n",
       "      <th>1097</th>\n",
       "      <td>0.0</td>\n",
       "      <td>0.00</td>\n",
       "      <td>0.00</td>\n",
       "      <td>0.0</td>\n",
       "      <td>0.00</td>\n",
       "      <td>0.00</td>\n",
       "      <td>0.00</td>\n",
       "      <td>0.00</td>\n",
       "      <td>0.00</td>\n",
       "      <td>0.00</td>\n",
       "      <td>...</td>\n",
       "      <td>0.000</td>\n",
       "      <td>0.000</td>\n",
       "      <td>0.0</td>\n",
       "      <td>0.000</td>\n",
       "      <td>0.000</td>\n",
       "      <td>1.118</td>\n",
       "      <td>17.481</td>\n",
       "      <td>49</td>\n",
       "      <td>472</td>\n",
       "      <td>1</td>\n",
       "    </tr>\n",
       "    <tr>\n",
       "      <th>570</th>\n",
       "      <td>0.0</td>\n",
       "      <td>0.15</td>\n",
       "      <td>0.00</td>\n",
       "      <td>0.0</td>\n",
       "      <td>0.15</td>\n",
       "      <td>0.00</td>\n",
       "      <td>0.00</td>\n",
       "      <td>0.00</td>\n",
       "      <td>0.15</td>\n",
       "      <td>0.15</td>\n",
       "      <td>...</td>\n",
       "      <td>0.019</td>\n",
       "      <td>0.137</td>\n",
       "      <td>0.0</td>\n",
       "      <td>0.000</td>\n",
       "      <td>0.000</td>\n",
       "      <td>0.000</td>\n",
       "      <td>2.276</td>\n",
       "      <td>20</td>\n",
       "      <td>485</td>\n",
       "      <td>0</td>\n",
       "    </tr>\n",
       "    <tr>\n",
       "      <th>1126</th>\n",
       "      <td>0.0</td>\n",
       "      <td>0.00</td>\n",
       "      <td>0.59</td>\n",
       "      <td>0.0</td>\n",
       "      <td>0.29</td>\n",
       "      <td>0.59</td>\n",
       "      <td>0.59</td>\n",
       "      <td>0.29</td>\n",
       "      <td>0.00</td>\n",
       "      <td>0.29</td>\n",
       "      <td>...</td>\n",
       "      <td>0.088</td>\n",
       "      <td>0.000</td>\n",
       "      <td>0.0</td>\n",
       "      <td>0.044</td>\n",
       "      <td>0.132</td>\n",
       "      <td>0.000</td>\n",
       "      <td>1.592</td>\n",
       "      <td>15</td>\n",
       "      <td>121</td>\n",
       "      <td>0</td>\n",
       "    </tr>\n",
       "  </tbody>\n",
       "</table>\n",
       "<p>5 rows × 58 columns</p>\n",
       "</div>"
      ],
      "text/plain": [
       "      word_freq_make  word_freq_address  word_freq_all  word_freq_3d  \\\n",
       "1164             0.0               0.00           1.36           0.0   \n",
       "809              0.0               0.00           1.92           0.0   \n",
       "1097             0.0               0.00           0.00           0.0   \n",
       "570              0.0               0.15           0.00           0.0   \n",
       "1126             0.0               0.00           0.59           0.0   \n",
       "\n",
       "      word_freq_our  word_freq_over  word_freq_remove  word_freq_internet  \\\n",
       "1164           0.68            0.68              0.00                0.00   \n",
       "809            0.00            0.00              0.00                0.00   \n",
       "1097           0.00            0.00              0.00                0.00   \n",
       "570            0.15            0.00              0.00                0.00   \n",
       "1126           0.29            0.59              0.59                0.29   \n",
       "\n",
       "      word_freq_order  word_freq_mail  ...  char_freq_;  char_freq_(  \\\n",
       "1164             0.00            0.00  ...        0.000        0.357   \n",
       "809              0.00            0.00  ...        0.000        0.000   \n",
       "1097             0.00            0.00  ...        0.000        0.000   \n",
       "570              0.15            0.15  ...        0.019        0.137   \n",
       "1126             0.00            0.29  ...        0.088        0.000   \n",
       "\n",
       "      char_freq_[  char_freq_!  char_freq_$  char_freq_#  \\\n",
       "1164          0.0        0.000        0.000        0.000   \n",
       "809           0.0        0.000        0.000        0.000   \n",
       "1097          0.0        0.000        0.000        1.118   \n",
       "570           0.0        0.000        0.000        0.000   \n",
       "1126          0.0        0.044        0.132        0.000   \n",
       "\n",
       "      capital_run_length_average  capital_run_length_longest  \\\n",
       "1164                       1.294                           5   \n",
       "809                        1.416                           6   \n",
       "1097                      17.481                          49   \n",
       "570                        2.276                          20   \n",
       "1126                       1.592                          15   \n",
       "\n",
       "      capital_run_length_total  class  \n",
       "1164                        44      0  \n",
       "809                         17      1  \n",
       "1097                       472      1  \n",
       "570                        485      0  \n",
       "1126                       121      0  \n",
       "\n",
       "[5 rows x 58 columns]"
      ]
     },
     "execution_count": 61,
     "metadata": {},
     "output_type": "execute_result"
    }
   ],
   "source": [
    "testdata = pd.read_csv('test_data.csv')\n",
    "testdata.sample(5)"
   ]
  },
  {
   "cell_type": "code",
   "execution_count": 62,
   "id": "a3409034",
   "metadata": {},
   "outputs": [],
   "source": [
    "y1 = testdata['class']\n",
    "X1 = testdata.drop(columns='class')"
   ]
  },
  {
   "cell_type": "code",
   "execution_count": 63,
   "id": "655e4511",
   "metadata": {},
   "outputs": [],
   "source": [
    "test_X = X1\n",
    "test_y = y1"
   ]
  },
  {
   "cell_type": "code",
   "execution_count": 64,
   "id": "fecce1fb",
   "metadata": {},
   "outputs": [
    {
     "data": {
      "text/plain": [
       "(1381, 57)"
      ]
     },
     "execution_count": 64,
     "metadata": {},
     "output_type": "execute_result"
    }
   ],
   "source": [
    "test_X.shape"
   ]
  },
  {
   "cell_type": "code",
   "execution_count": 65,
   "id": "88d5df43",
   "metadata": {},
   "outputs": [
    {
     "data": {
      "text/plain": [
       "(1381,)"
      ]
     },
     "execution_count": 65,
     "metadata": {},
     "output_type": "execute_result"
    }
   ],
   "source": [
    "test_y.shape"
   ]
  },
  {
   "cell_type": "markdown",
   "id": "fa59e810",
   "metadata": {},
   "source": [
    "## 2. Normalize data"
   ]
  },
  {
   "cell_type": "code",
   "execution_count": 66,
   "id": "d487de36",
   "metadata": {},
   "outputs": [],
   "source": [
    "# Create a scaler to do the transformation\n",
    "scaler = preprocessing.MinMaxScaler().fit(train_X)"
   ]
  },
  {
   "cell_type": "code",
   "execution_count": 67,
   "id": "bcc3057d",
   "metadata": {},
   "outputs": [],
   "source": [
    "# Transform training X\n",
    "train_X_scale = scaler.transform(train_X)\n",
    "train_X_scale = pd.DataFrame(train_X_scale)\n",
    "train_X_scale.columns = train_X.columns\n",
    "\n",
    "#train_X_scale.describe().transpose()"
   ]
  },
  {
   "cell_type": "code",
   "execution_count": 68,
   "id": "e8ca7680",
   "metadata": {},
   "outputs": [],
   "source": [
    "# Transform test X\n",
    "test_X_scale = scaler.transform(test_X)\n",
    "test_X_scale = pd.DataFrame(test_X_scale)\n",
    "test_X_scale.columns = test_X.columns\n",
    "\n",
    "#test_X_scale.describe().transpose()"
   ]
  },
  {
   "cell_type": "markdown",
   "id": "e2e8aee2",
   "metadata": {},
   "source": [
    "---\n",
    "# 3. Random Forest Classifier\n",
    "\n",
    "## 3.1 Random Forest with feature importance and without hyper-parameter tuning"
   ]
  },
  {
   "cell_type": "code",
   "execution_count": 69,
   "id": "f6cdc7d7",
   "metadata": {},
   "outputs": [],
   "source": [
    "from sklearn.ensemble import RandomForestClassifier"
   ]
  },
  {
   "cell_type": "code",
   "execution_count": 70,
   "id": "356635ca",
   "metadata": {},
   "outputs": [],
   "source": [
    "rf = RandomForestClassifier(n_estimators=7, max_features=9, random_state=123)"
   ]
  },
  {
   "cell_type": "code",
   "execution_count": 71,
   "id": "56002bd0",
   "metadata": {},
   "outputs": [
    {
     "data": {
      "text/plain": [
       "RandomForestClassifier(max_features=9, n_estimators=7, random_state=123)"
      ]
     },
     "execution_count": 71,
     "metadata": {},
     "output_type": "execute_result"
    }
   ],
   "source": [
    "# Training RF model without hyper-parameters.\n",
    "rf.fit(train_X_scale, train_y)"
   ]
  },
  {
   "cell_type": "code",
   "execution_count": 72,
   "id": "d636a986",
   "metadata": {},
   "outputs": [],
   "source": [
    "#rf.feature_importances_"
   ]
  },
  {
   "cell_type": "code",
   "execution_count": 73,
   "id": "990570cd",
   "metadata": {},
   "outputs": [],
   "source": [
    "# Display of feature importance. Displays the most valuable/ important features\n",
    "feature_importances = pd.DataFrame(rf.feature_importances_,\n",
    "                                   index = train_X_scale.columns,\n",
    "                                   columns=['importance'])\n",
    "feature_importances = feature_importances.sort_values('importance',ascending=False)\n",
    "\n",
    "#feature_importances"
   ]
  },
  {
   "cell_type": "code",
   "execution_count": 74,
   "id": "300f432b",
   "metadata": {},
   "outputs": [
    {
     "data": {
      "text/plain": [
       "<AxesSubplot:title={'center':'Feature Importance of Spam and Not Spam Emails'}>"
      ]
     },
     "execution_count": 74,
     "metadata": {},
     "output_type": "execute_result"
    },
    {
     "data": {
      "image/png": "[encoded data removed]",
      "text/plain": [
       "<Figure size 1080x360 with 1 Axes>"
      ]
     },
     "metadata": {
      "needs_background": "light"
     },
     "output_type": "display_data"
    }
   ],
   "source": [
    "# plotting the important features bar plot.\n",
    "feature_importances.plot(kind = 'bar',figsize=(15,5),\n",
    "                         title='Feature Importance of Spam and Not Spam Emails')"
   ]
  },
  {
   "cell_type": "markdown",
   "id": "a057ea7e",
   "metadata": {},
   "source": [
    "**Using test dataset to assess the RF model.**"
   ]
  },
  {
   "cell_type": "code",
   "execution_count": 80,
   "id": "b5ac1648",
   "metadata": {},
   "outputs": [],
   "source": [
    "# Select the 17 most importance features\n",
    "#train_X_scale_imp = train_X_scale[feature_importances.index[range(17)]]"
   ]
  },
  {
   "cell_type": "code",
   "execution_count": 84,
   "id": "72eb6b80",
   "metadata": {},
   "outputs": [],
   "source": [
    "pred_y_rf = rf.predict(test_X_scale) # scaled predictors have optimal performance"
   ]
  },
  {
   "cell_type": "code",
   "execution_count": 85,
   "id": "27be5210",
   "metadata": {},
   "outputs": [
    {
     "data": {
      "text/plain": [
       "0.939898624185373"
      ]
     },
     "execution_count": 85,
     "metadata": {},
     "output_type": "execute_result"
    }
   ],
   "source": [
    "metrics.accuracy_score(test_y, pred_y_rf)"
   ]
  },
  {
   "cell_type": "code",
   "execution_count": 86,
   "id": "efac8e24",
   "metadata": {},
   "outputs": [
    {
     "data": {
      "text/plain": [
       "0.9346526020802586"
      ]
     },
     "execution_count": 86,
     "metadata": {},
     "output_type": "execute_result"
    }
   ],
   "source": [
    "metrics.roc_auc_score(test_y, pred_y_rf)"
   ]
  },
  {
   "cell_type": "markdown",
   "id": "508364e5",
   "metadata": {},
   "source": [
    "## 4.2 Random Forest with best hyper-parameter tuning"
   ]
  },
  {
   "cell_type": "code",
   "execution_count": 30,
   "id": "202cfc5d",
   "metadata": {},
   "outputs": [
    {
     "data": {
      "text/plain": [
       "{'criterion': ['entropy'],\n",
       " 'n_estimators': [500],\n",
       " 'max_features': [3],\n",
       " 'random_state': [123]}"
      ]
     },
     "execution_count": 30,
     "metadata": {},
     "output_type": "execute_result"
    }
   ],
   "source": [
    "# n_estimators are the number of trees we want to take before taking maximum voting or avgs of the predictions\n",
    "# max_features are the maxiumum number of features (predictors) random forest is allowed to try in a individual tree\n",
    "parameters = {'criterion': ['entropy'],\n",
    "              'n_estimators':[500],\n",
    "              'max_features':[3],\n",
    "              'random_state':[123]}\n",
    "parameters"
   ]
  },
  {
   "cell_type": "code",
   "execution_count": 31,
   "id": "9a72e6d4",
   "metadata": {},
   "outputs": [],
   "source": [
    "rf2 = RandomForestClassifier()"
   ]
  },
  {
   "cell_type": "code",
   "execution_count": 32,
   "id": "0df0a7ee",
   "metadata": {},
   "outputs": [],
   "source": [
    "from sklearn.model_selection import GridSearchCV"
   ]
  },
  {
   "cell_type": "code",
   "execution_count": 33,
   "id": "cdd05abb",
   "metadata": {},
   "outputs": [],
   "source": [
    "# GridSearchCV will loop all the hyper-parameters that we have defined i.e. n_estimators and max_features. \n",
    "# it will fit the model on the training dataset.\n",
    "\n",
    "grid_rf = GridSearchCV(rf2, parameters, scoring='roc_auc', cv=10)"
   ]
  },
  {
   "cell_type": "markdown",
   "id": "311a829a",
   "metadata": {},
   "source": [
    "**Training the RF model based on hyper-parameters.**"
   ]
  },
  {
   "cell_type": "code",
   "execution_count": 34,
   "id": "07f58bc5",
   "metadata": {},
   "outputs": [
    {
     "name": "stdout",
     "output_type": "stream",
     "text": [
      "Start time :12/03/2021 11:13:43\n",
      "End time :12/03/2021 11:13:56\n",
      "Execution Time in seconds :12.455350875854492\n"
     ]
    }
   ],
   "source": [
    "import time\n",
    "start = time.time()\n",
    "print('Start time :'+ time.strftime('%m/%d/%Y %H:%M:%S'))\n",
    "\n",
    "grid_rf.fit(train_X_scale, train_y)\n",
    "\n",
    "end = time.time()\n",
    "print('End time :'+ time.strftime('%m/%d/%Y %H:%M:%S'))\n",
    "print('Execution Time in seconds :'+ str(end - start))"
   ]
  },
  {
   "cell_type": "markdown",
   "id": "1c1aa4b7",
   "metadata": {},
   "source": [
    "**Using Test dataset to assess the RF model with hyper-parameters.**"
   ]
  },
  {
   "cell_type": "code",
   "execution_count": 35,
   "id": "0667ef9f",
   "metadata": {},
   "outputs": [],
   "source": [
    "pred_y_rf2 = grid_rf.predict(test_X_scale) # scaled predictors have optimal performance"
   ]
  },
  {
   "cell_type": "code",
   "execution_count": 36,
   "id": "92aff783",
   "metadata": {},
   "outputs": [
    {
     "data": {
      "text/plain": [
       "0.9587255611875453"
      ]
     },
     "execution_count": 36,
     "metadata": {},
     "output_type": "execute_result"
    }
   ],
   "source": [
    "metrics.accuracy_score(test_y, pred_y_rf2)"
   ]
  },
  {
   "cell_type": "code",
   "execution_count": 37,
   "id": "1b13ff23",
   "metadata": {},
   "outputs": [
    {
     "data": {
      "text/plain": [
       "0.9540452157565537"
      ]
     },
     "execution_count": 37,
     "metadata": {},
     "output_type": "execute_result"
    }
   ],
   "source": [
    "metrics.roc_auc_score(test_y, pred_y_rf2)"
   ]
  },
  {
   "cell_type": "code",
   "execution_count": 38,
   "id": "4a268574",
   "metadata": {},
   "outputs": [
    {
     "name": "stdout",
     "output_type": "stream",
     "text": [
      "              precision    recall  f1-score   support\n",
      "\n",
      "           0       0.96      0.98      0.97       837\n",
      "           1       0.96      0.93      0.95       544\n",
      "\n",
      "    accuracy                           0.96      1381\n",
      "   macro avg       0.96      0.95      0.96      1381\n",
      "weighted avg       0.96      0.96      0.96      1381\n",
      "\n"
     ]
    }
   ],
   "source": [
    "print(metrics.classification_report(test_y, pred_y_rf2))"
   ]
  },
  {
   "cell_type": "markdown",
   "id": "7b2618ed",
   "metadata": {},
   "source": [
    "## 4.3 Comparing both RF models"
   ]
  },
  {
   "cell_type": "code",
   "execution_count": 39,
   "id": "95ed4e53",
   "metadata": {},
   "outputs": [
    {
     "data": {
      "text/html": [
       "<div>\n",
       "<style scoped>\n",
       "    .dataframe tbody tr th:only-of-type {\n",
       "        vertical-align: middle;\n",
       "    }\n",
       "\n",
       "    .dataframe tbody tr th {\n",
       "        vertical-align: top;\n",
       "    }\n",
       "\n",
       "    .dataframe thead th {\n",
       "        text-align: right;\n",
       "    }\n",
       "</style>\n",
       "<table border=\"1\" class=\"dataframe\">\n",
       "  <thead>\n",
       "    <tr style=\"text-align: right;\">\n",
       "      <th></th>\n",
       "      <th>Accuracy</th>\n",
       "      <th>AUC</th>\n",
       "    </tr>\n",
       "  </thead>\n",
       "  <tbody>\n",
       "    <tr>\n",
       "      <th>RF without hyper-parameter tuning</th>\n",
       "      <td>0.939899</td>\n",
       "      <td>0.934653</td>\n",
       "    </tr>\n",
       "    <tr>\n",
       "      <th>RF with hyper-parameter tuning</th>\n",
       "      <td>0.958726</td>\n",
       "      <td>0.954045</td>\n",
       "    </tr>\n",
       "  </tbody>\n",
       "</table>\n",
       "</div>"
      ],
      "text/plain": [
       "                                   Accuracy       AUC\n",
       "RF without hyper-parameter tuning  0.939899  0.934653\n",
       "RF with hyper-parameter tuning     0.958726  0.954045"
      ]
     },
     "execution_count": 39,
     "metadata": {},
     "output_type": "execute_result"
    }
   ],
   "source": [
    "acc = [metrics.accuracy_score(test_y, pred_y_rf),\n",
    "      metrics.accuracy_score(test_y, pred_y_rf2)]\n",
    "\n",
    "AUC = [metrics.roc_auc_score(test_y, pred_y_rf),\n",
    "      metrics.roc_auc_score(test_y, pred_y_rf2)]\n",
    "\n",
    "pd.DataFrame({'Accuracy':acc,'AUC':AUC},\n",
    "             index = ['RF without hyper-parameter tuning','RF with hyper-parameter tuning'])"
   ]
  },
  {
   "cell_type": "markdown",
   "id": "5f4b6e16",
   "metadata": {},
   "source": [
    "**From the above result we can interpret that RF Classifier with hyper-parameters tunning gives us the best performance with an AUC score of 95.40%**"
   ]
  },
  {
   "cell_type": "markdown",
   "id": "2b6ec4f5",
   "metadata": {},
   "source": [
    "---\n",
    "**We thereby conclude that Random forest classifier when tuned with hyper parameters on training dataset gives us an AUC score of 95.79% and the same model with its optimal hyper-parameters when tested on the test dataset gives us an AUC score of 95.40% which derives the RF classifier is having an optimal performance on both the train and test datasets.**"
   ]
  },
  {
   "cell_type": "code",
   "execution_count": null,
   "id": "7e6a2a65",
   "metadata": {},
   "outputs": [],
   "source": []
  }
 ],
 "metadata": {
  "kernelspec": {
   "display_name": "Python 3 (ipykernel)",
   "language": "python",
   "name": "python3"
  },
  "language_info": {
   "codemirror_mode": {
    "name": "ipython",
    "version": 3
   },
   "file_extension": ".py",
   "mimetype": "text/x-python",
   "name": "python",
   "nbconvert_exporter": "python",
   "pygments_lexer": "ipython3",
   "version": "3.9.7"
  }
 },
 "nbformat": 4,
 "nbformat_minor": 5
}
